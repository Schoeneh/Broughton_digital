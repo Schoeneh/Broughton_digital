{
 "cells": [
  {
   "cell_type": "code",
   "execution_count": 47,
   "id": "03fb23df",
   "metadata": {
    "ExecuteTime": {
     "end_time": "2022-11-30T08:10:27.002824Z",
     "start_time": "2022-11-30T08:10:26.980902Z"
    }
   },
   "outputs": [],
   "source": [
    "import numpy\n",
    "import cv2\n",
    "import os"
   ]
  },
  {
   "cell_type": "markdown",
   "id": "e19d3537",
   "metadata": {},
   "source": [
    "### Appending all filenames (\".tif\") in the 'path' directory into a list"
   ]
  },
  {
   "cell_type": "code",
   "execution_count": 48,
   "id": "cb38459d",
   "metadata": {
    "ExecuteTime": {
     "end_time": "2022-11-30T08:10:28.274414Z",
     "start_time": "2022-11-30T08:10:28.266017Z"
    }
   },
   "outputs": [],
   "source": [
    "list_files = os.listdir(\"original\")"
   ]
  },
  {
   "cell_type": "markdown",
   "id": "1613eff2",
   "metadata": {},
   "source": [
    "### For each image: cropping the last 220 rows of pixels and saving the cropped image in directory 'data'"
   ]
  },
  {
   "cell_type": "code",
   "execution_count": 51,
   "id": "aa2b62a4",
   "metadata": {
    "ExecuteTime": {
     "end_time": "2022-11-30T08:11:35.069090Z",
     "start_time": "2022-11-30T08:11:29.670757Z"
    }
   },
   "outputs": [],
   "source": [
    "for i in range(len(list_files)):\n",
    "    img = cv2.imread(\"original\" + \"\\\\\" + list_files[i])\n",
    "    columns = img.shape[1]\n",
    "    rows = img.shape[0] - 220\n",
    "\n",
    "    img_crop = img[0:rows,0:columns]\n",
    "    cv2.imwrite(\"c_\" + list_files[i], img_crop)"
   ]
  }
 ],
 "metadata": {
  "kernelspec": {
   "display_name": "Python 3 (ipykernel)",
   "language": "python",
   "name": "python3"
  },
  "language_info": {
   "codemirror_mode": {
    "name": "ipython",
    "version": 3
   },
   "file_extension": ".py",
   "mimetype": "text/x-python",
   "name": "python",
   "nbconvert_exporter": "python",
   "pygments_lexer": "ipython3",
   "version": "3.9.7"
  },
  "varInspector": {
   "cols": {
    "lenName": 16,
    "lenType": 16,
    "lenVar": 40
   },
   "kernels_config": {
    "python": {
     "delete_cmd_postfix": "",
     "delete_cmd_prefix": "del ",
     "library": "var_list.py",
     "varRefreshCmd": "print(var_dic_list())"
    },
    "r": {
     "delete_cmd_postfix": ") ",
     "delete_cmd_prefix": "rm(",
     "library": "var_list.r",
     "varRefreshCmd": "cat(var_dic_list()) "
    }
   },
   "position": {
    "height": "273.85px",
    "left": "687px",
    "right": "20px",
    "top": "-16px",
    "width": "629px"
   },
   "types_to_exclude": [
    "module",
    "function",
    "builtin_function_or_method",
    "instance",
    "_Feature"
   ],
   "window_display": true
  }
 },
 "nbformat": 4,
 "nbformat_minor": 5
}
