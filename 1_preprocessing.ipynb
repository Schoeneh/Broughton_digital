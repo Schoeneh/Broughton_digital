{
 "cells": [
  {
   "cell_type": "code",
   "execution_count": 4,
   "id": "42fced05",
   "metadata": {
    "ExecuteTime": {
     "end_time": "2022-11-29T19:13:39.946521Z",
     "start_time": "2022-11-29T19:13:39.922462Z"
    }
   },
   "outputs": [],
   "source": [
    "import numpy\n",
    "import cv2\n",
    "import os\n",
    "\n",
    "path = r\"C:\\Users\\henri\\OneDrive\\Dokumen\\GitHub\\Broughton_digital\\data\"\n",
    "path_original = path + r\"\\original\""
   ]
  },
  {
   "cell_type": "markdown",
   "id": "68129750",
   "metadata": {},
   "source": [
    "### Appending all filenames (\".tif\") in the 'path' directory into a list"
   ]
  },
  {
   "cell_type": "code",
   "execution_count": 5,
   "id": "5ddad351",
   "metadata": {
    "ExecuteTime": {
     "end_time": "2022-11-29T19:13:41.548638Z",
     "start_time": "2022-11-29T19:13:41.533802Z"
    }
   },
   "outputs": [],
   "source": [
    "### \n",
    "list_files = os.listdir(path_original)"
   ]
  },
  {
   "cell_type": "markdown",
   "id": "237da5f8",
   "metadata": {},
   "source": [
    "### For each image: cropping the last 220 rows of pixels and saving in 'path'"
   ]
  },
  {
   "cell_type": "code",
   "execution_count": 8,
   "id": "0d1974e5",
   "metadata": {
    "ExecuteTime": {
     "end_time": "2022-11-29T19:15:12.815735Z",
     "start_time": "2022-11-29T19:15:07.613514Z"
    }
   },
   "outputs": [],
   "source": [
    "os.chdir(path)\n",
    "\n",
    "for i in range(len(list_files)):\n",
    "    img = cv2.imread(path_original + \"\\\\\" + list_files[i])\n",
    "    columns = img.shape[1]\n",
    "    rows = img.shape[0] - 220\n",
    "\n",
    "    img_crop = img[0:rows,0:columns]\n",
    "    cv2.imwrite(\"c_\" + list_files[i], img_crop)"
   ]
  }
 ],
 "metadata": {
  "kernelspec": {
   "display_name": "Python 3 (ipykernel)",
   "language": "python",
   "name": "python3"
  },
  "language_info": {
   "codemirror_mode": {
    "name": "ipython",
    "version": 3
   },
   "file_extension": ".py",
   "mimetype": "text/x-python",
   "name": "python",
   "nbconvert_exporter": "python",
   "pygments_lexer": "ipython3",
   "version": "3.9.7"
  },
  "varInspector": {
   "cols": {
    "lenName": 16,
    "lenType": 16,
    "lenVar": 40
   },
   "kernels_config": {
    "python": {
     "delete_cmd_postfix": "",
     "delete_cmd_prefix": "del ",
     "library": "var_list.py",
     "varRefreshCmd": "print(var_dic_list())"
    },
    "r": {
     "delete_cmd_postfix": ") ",
     "delete_cmd_prefix": "rm(",
     "library": "var_list.r",
     "varRefreshCmd": "cat(var_dic_list()) "
    }
   },
   "position": {
    "height": "273.85px",
    "left": "737px",
    "right": "20px",
    "top": "145px",
    "width": "355px"
   },
   "types_to_exclude": [
    "module",
    "function",
    "builtin_function_or_method",
    "instance",
    "_Feature"
   ],
   "window_display": true
  }
 },
 "nbformat": 4,
 "nbformat_minor": 5
}
